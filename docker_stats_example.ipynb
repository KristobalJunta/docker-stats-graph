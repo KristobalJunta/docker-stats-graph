{
 "cells": [
  {
   "cell_type": "code",
   "execution_count": 1,
   "metadata": {},
   "outputs": [],
   "source": [
    "from src.dockerstats import *"
   ]
  },
  {
   "cell_type": "code",
   "execution_count": 6,
   "metadata": {},
   "outputs": [
    {
     "name": "stdout",
     "output_type": "stream",
     "text": [
      "                  Name CPU % MEM %    MEM Usage  PID                DATE  \\\n",
      "0   determined_mestorf  0.00  0.13     7.465000    1 2020-11-16 22:36:29   \n",
      "1        cautious_bach  0.00  0.13   465.000000    1 2020-11-16 22:36:29   \n",
      "2   determined_mestorf  0.00  0.13  7465.000000    1 2020-11-16 22:36:36   \n",
      "3        cautious_bach  0.00  0.13     0.007465    1 2020-11-16 22:36:36   \n",
      "4   determined_mestorf  0.00  0.13     7.465000    1 2020-11-16 22:36:42   \n",
      "5        cautious_bach  0.00  0.13     7.465000    1 2020-11-16 22:36:42   \n",
      "6   determined_mestorf  0.00  0.13     7.465000    1 2020-11-16 22:36:49   \n",
      "7        cautious_bach  0.00  0.13     7.465000    1 2020-11-16 22:36:49   \n",
      "8   determined_mestorf  0.00  0.13     7.465000    1 2020-11-16 22:36:56   \n",
      "9        cautious_bach  0.00  0.13     7.465000    1 2020-11-16 22:36:56   \n",
      "10  determined_mestorf  0.00  0.13     7.465000    1 2020-11-16 22:37:03   \n",
      "11       cautious_bach  0.00  0.13     7.465000    1 2020-11-16 22:37:03   \n",
      "12  determined_mestorf  0.00  0.13     7.465000    1 2020-11-16 22:37:09   \n",
      "13       cautious_bach  0.00  0.13     7.465000    1 2020-11-16 22:37:09   \n",
      "14  determined_mestorf  0.00  0.13     7.465000    1 2020-11-16 22:37:16   \n",
      "15       cautious_bach  0.00  0.13     7.465000    1 2020-11-16 22:37:16   \n",
      "16  determined_mestorf  0.00  0.13     7.465000    1 2020-11-16 22:37:23   \n",
      "17       cautious_bach  0.00  0.13     7.465000    1 2020-11-16 22:37:23   \n",
      "18  determined_mestorf  0.00  0.13     7.465000    1 2020-11-16 22:37:30   \n",
      "19       cautious_bach  0.00  0.13     7.465000    1 2020-11-16 22:37:30   \n",
      "\n",
      "    NET INPUT  NET OUTPUT  BLOCK INPUT  BLOCK OUTPUT  \n",
      "0       106.0        2.17        0.262          2.14  \n",
      "1       106.0        2.17        0.262          2.14  \n",
      "2       106.0        2.17        0.262          2.14  \n",
      "3       106.0        2.17        0.262          2.14  \n",
      "4       106.0        2.17        0.262          2.14  \n",
      "5       106.0        2.17        0.262          2.14  \n",
      "6       106.0        2.17        0.262          2.14  \n",
      "7       106.0        2.17        0.262          2.14  \n",
      "8       106.0        2.17        0.262          2.14  \n",
      "9       106.0        2.17        0.262          2.14  \n",
      "10      106.0        2.17        0.262          2.14  \n",
      "11      106.0        2.17        0.262          2.14  \n",
      "12      106.0        2.17        0.262          2.14  \n",
      "13      106.0        2.17        0.262          2.14  \n",
      "14      106.0        2.17        0.262          2.14  \n",
      "15      106.0        2.17        0.262          2.14  \n",
      "16      106.0        2.17        0.262          2.14  \n",
      "17      106.0        2.17        0.262          2.14  \n",
      "18      106.0        2.17        0.262          2.14  \n",
      "19      106.0        2.17        0.262          2.14  \n"
     ]
    }
   ],
   "source": [
    "ds = DockerStats(\"tests/resources/data.csv\")\n",
    "print(ds.df)"
   ]
  },
  {
   "cell_type": "code",
   "execution_count": null,
   "metadata": {},
   "outputs": [],
   "source": []
  }
 ],
 "metadata": {
  "kernelspec": {
   "display_name": "Python 3",
   "language": "python",
   "name": "python3"
  },
  "language_info": {
   "codemirror_mode": {
    "name": "ipython",
    "version": 3
   },
   "file_extension": ".py",
   "mimetype": "text/x-python",
   "name": "python",
   "nbconvert_exporter": "python",
   "pygments_lexer": "ipython3",
   "version": "3.7.7"
  }
 },
 "nbformat": 4,
 "nbformat_minor": 2
}
